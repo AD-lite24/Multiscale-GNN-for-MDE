{
 "cells": [
  {
   "cell_type": "code",
   "execution_count": 1,
   "metadata": {},
   "outputs": [],
   "source": [
    "import torch\n",
    "import torch.nn.functional as F\n",
    "import torch.nn as nn\n",
    "import torchvision.models as models\n",
    "import torch_geometric.nn as pyg_nn\n",
    "import torch_geometric.utils as pyg_utils\n",
    "import torchvision.transforms.functional as TF\n",
    "import cv2\n",
    "import matplotlib.pyplot as plt\n",
    "from tensorboardX import SummaryWriter\n",
    "import numpy as np\n"
   ]
  },
  {
   "cell_type": "code",
   "execution_count": 68,
   "metadata": {},
   "outputs": [],
   "source": [
    "class MaxPool(nn.Module):\n",
    "    def __init__(self, pool_size):\n",
    "        super(MaxPool, self).__init__()\n",
    "        self.pool = nn.MaxPool2d(kernel_size=pool_size, stride=pool_size)\n",
    "\n",
    "    def forward(self, x):\n",
    "        print(\"x shape \", x.shape)\n",
    "        return self.pool(x)\n",
    "\n",
    "\n",
    "class Noise(nn.Module):\n",
    "    def __init__(self, R_scale):\n",
    "        super(Noise, self).__init__()\n",
    "        self.mean = 0\n",
    "        self.stdev = 1  # as defined in the paper\n",
    "\n",
    "    def forward(self, d_coarse):\n",
    "        noise = torch.rand_like(d_coarse)*self.stdev + self.mean\n",
    "        d_noised = d_coarse + noise\n",
    "        return d_noised\n",
    "\n",
    "\n",
    "class IntervalThreshold(nn.Module):\n",
    "    def __init__(self, m, n):\n",
    "        super(IntervalThreshold, self).__init__()\n",
    "        self.m = m\n",
    "        self.n = n\n",
    "\n",
    "    def forward(self, d_pool):\n",
    "        threshold = (torch.max(d_pool) - torch.min(d_pool))/min(self.m, self.n)\n",
    "        return threshold\n",
    "\n",
    "\n",
    "class ReconGraph(nn.Module):\n",
    "    def __init__(self, m, n):\n",
    "        super(ReconGraph, self).__init__()\n",
    "        self.m = m\n",
    "        self.n = n\n",
    "\n",
    "    def forward(self, d_noised, threshold):\n",
    "        neighbours = set()\n",
    "        labels = {}\n",
    "\n",
    "        count = 0\n",
    "        print(self.m, self.n)\n",
    "        for i in range(self.m):\n",
    "            for j in range(self.n):\n",
    "\n",
    "                labels[(j, i)] = count  # Labeling each pixel in (x, y) form\n",
    "                count += 1\n",
    "                for dy in range(-1, 2):\n",
    "                    for dx in range(-1, 2):\n",
    "\n",
    "                        if dx != 0 and dy != 0 and i+dy >= 0 and i+dy < self.m and j+dx >= 0 and j+dx < self.n:\n",
    "                            if abs(d_noised[0][i+dy][j+dx] - d_noised[0][i][j]) <= threshold:\n",
    "                                # (x, y) format\n",
    "                                neighbours.add(((j, i), (j+dx, i+dy)))\n",
    "        adjacency_matrix = torch.zeros(\n",
    "            (self.m*self.n, self.m*self.n), dtype=bool)\n",
    "        print(adjacency_matrix.shape)\n",
    "\n",
    "        for val in neighbours:\n",
    "            N1, N2 = val  # in (x, y) form\n",
    "            N1_x, N1_y = N1\n",
    "            N2_x, N2_y = N2\n",
    "\n",
    "            l1 = labels[(N1_x, N1_y)]\n",
    "            l2 = labels[(N2_x, N2_y)]\n",
    "\n",
    "            # Symmetric connections\n",
    "            adjacency_matrix[l1, l2] = 1\n",
    "            adjacency_matrix[l2, l1] = 1\n",
    "\n",
    "        return adjacency_matrix\n",
    "\n",
    "\n",
    "class GraphDropout(nn.Module):\n",
    "    def __init__(self, p=0.5) -> None:\n",
    "        super(GraphDropout, self).__init__()\n",
    "        self.p = p\n",
    "\n",
    "    def forward(self, adjacency_matrix):\n",
    "        if self.train:\n",
    "            mask = torch.empty_like(adjacency_matrix).bernoulli_(1 - self.p)\n",
    "            output = adjacency_matrix * mask\n",
    "\n",
    "        else:\n",
    "            output = adjacency_matrix\n",
    "\n",
    "        return output\n"
   ]
  },
  {
   "cell_type": "code",
   "execution_count": 98,
   "metadata": {},
   "outputs": [],
   "source": [
    "class ExtractGraph(nn.Module):\n",
    "\n",
    "    def __init__(self) -> None:\n",
    "        super(ExtractGraph, self).__init__()\n",
    "\n",
    "        self.maxpool = MaxPool(pool_size=2)\n",
    "        self.noise = Noise(R_scale=0.4)  # From paper results\n",
    "        self.dropout = GraphDropout(p=0.5)\n",
    "\n",
    "    def forward(self, d_coarse, R_scale):\n",
    "\n",
    "        print('d_coarse: ', d_coarse.shape, 'type: ', d_coarse.dtype)\n",
    "        d_pool = self.maxpool.forward(d_coarse)\n",
    "        m = d_pool.shape[1]\n",
    "        n = d_pool.shape[2]\n",
    "        self.interval_threshold = IntervalThreshold(m, n)\n",
    "        self.recon_graph = ReconGraph(m, n)\n",
    "\n",
    "        print(\"pooled shape \", d_pool.shape)\n",
    "        d_noise = self.noise.forward(d_pool)\n",
    "        threshold = self.interval_threshold.forward(d_pool)\n",
    "        adjacency_matrix = self.recon_graph.forward(d_noise, threshold)\n",
    "        adjacency_matrix = self.dropout.forward(adjacency_matrix)\n",
    "\n",
    "        return adjacency_matrix\n"
   ]
  },
  {
   "cell_type": "code",
   "execution_count": 124,
   "metadata": {},
   "outputs": [],
   "source": [
    "class Encoder(nn.Module):\n",
    "\n",
    "    def __init__(self) -> None:\n",
    "        super(Encoder, self).__init__()\n",
    "        encoder = models.resnet.resnet50(\n",
    "            weights=models.ResNet50_Weights.DEFAULT)\n",
    "        encoder = nn.Sequential(*list(encoder.children()))[:3]\n",
    "        self.resnet_encoder = encoder\n",
    "\n",
    "    def forward(self, x):\n",
    "        self.resnet_encoder.eval()\n",
    "        return self.resnet_encoder(x)\n"
   ]
  },
  {
   "cell_type": "code",
   "execution_count": 125,
   "metadata": {},
   "outputs": [
    {
     "data": {
      "text/plain": [
       "device(type='cpu')"
      ]
     },
     "execution_count": 125,
     "metadata": {},
     "output_type": "execute_result"
    }
   ],
   "source": [
    "device = torch.device('cuda:0' if torch.cuda.is_available() else 'cpu')\n",
    "device\n"
   ]
  },
  {
   "cell_type": "code",
   "execution_count": 126,
   "metadata": {},
   "outputs": [],
   "source": [
    "from torchvision.transforms import transforms\n",
    "from PIL import Image\n",
    "from torch.utils.data import DataLoader\n",
    "\n",
    "preprocessing_transform_2 = transforms.Compose([\n",
    "    transforms.ToTensor()\n",
    "])"
   ]
  },
  {
   "cell_type": "code",
   "execution_count": 154,
   "metadata": {},
   "outputs": [],
   "source": [
    "from gcn_depth_dataloader import GCNDepthDataLoader\n",
    "\n",
    "# for train set\n",
    "nyu_dataset_train = GCNDepthDataLoader(mode='train',\n",
    "                                       image_folder='../dataset/dataset/nyu_depth_v2/official_splits/train/rgb',\n",
    "                                       depth_folder='../dataset/dataset/nyu_depth_v2/official_splits/train/depth',\n",
    "                                       transform=preprocessing_transform_2)\n",
    "\n",
    "nyu_dataset_test = GCNDepthDataLoader(mode='test',\n",
    "                                      image_folder='../dataset/dataset/nyu_depth_v2/official_splits/test/rgb',\n",
    "                                      depth_folder='../dataset/dataset/nyu_depth_v2/official_splits/test/depth',\n",
    "                                      transform=preprocessing_transform_2)"
   ]
  },
  {
   "cell_type": "code",
   "execution_count": 128,
   "metadata": {},
   "outputs": [
    {
     "data": {
      "image/png": "[encoded data removed]",
      "text/plain": [
       "<Figure size 432x288 with 2 Axes>"
      ]
     },
     "metadata": {
      "needs_background": "light"
     },
     "output_type": "display_data"
    }
   ],
   "source": [
    "rgb, depth = nyu_dataset_train.__getitem__(1)\n",
    "\n",
    "fig, axes = plt.subplots(1, 2)\n",
    "axes[0].imshow(TF.to_pil_image(rgb.squeeze()))\n",
    "axes[1].imshow(depth.squeeze())\n",
    "\n",
    "plt.show()"
   ]
  },
  {
   "cell_type": "code",
   "execution_count": 129,
   "metadata": {},
   "outputs": [
    {
     "name": "stdout",
     "output_type": "stream",
     "text": [
      "795\n",
      "torch.Size([1, 3, 480, 640]) torch.Size([1, 1, 480, 640])\n"
     ]
    },
    {
     "data": {
      "image/png": "[encoded data removed]",
      "text/plain": [
       "<Figure size 432x288 with 2 Axes>"
      ]
     },
     "metadata": {
      "needs_background": "light"
     },
     "output_type": "display_data"
    }
   ],
   "source": [
    "train_dataloader = DataLoader(nyu_dataset_train, batch_size=8, shuffle=True)\n",
    "print(len(train_dataloader))\n",
    "\n",
    "for rgb, depth in train_dataloader:\n",
    "    print(rgb.shape, depth.shape)\n",
    "    \n",
    "    fig, axes = plt.subplots(1, 2)\n",
    "    axes[0].imshow(TF.to_pil_image(rgb.squeeze()))\n",
    "    axes[1].imshow(depth.squeeze())\n",
    "\n",
    "    plt.show()\n",
    "    break"
   ]
  },
  {
   "cell_type": "code",
   "execution_count": 155,
   "metadata": {},
   "outputs": [
    {
     "name": "stdout",
     "output_type": "stream",
     "text": [
      "655\n"
     ]
    }
   ],
   "source": [
    "test_dataloader = DataLoader(nyu_dataset_test, batch_size=8, shuffle=True)\n",
    "print(len(test_dataloader))"
   ]
  },
  {
   "cell_type": "code",
   "execution_count": 130,
   "metadata": {},
   "outputs": [
    {
     "name": "stderr",
     "output_type": "stream",
     "text": [
      "Using cache found in /Users/adityadandwate/.cache/torch/hub/intel-isl_MiDaS_master\n"
     ]
    },
    {
     "name": "stdout",
     "output_type": "stream",
     "text": [
      "Loading weights:  None\n"
     ]
    },
    {
     "name": "stderr",
     "output_type": "stream",
     "text": [
      "Using cache found in /Users/adityadandwate/.cache/torch/hub/rwightman_gen-efficientnet-pytorch_master\n",
      "Using cache found in /Users/adityadandwate/.cache/torch/hub/intel-isl_MiDaS_master\n"
     ]
    }
   ],
   "source": [
    "midas_model_type = \"MiDaS_small\"\n",
    "midas = torch.hub.load(\"intel-isl/MiDaS\", midas_model_type)\n",
    "midas.to(device)\n",
    "midas.eval()\n",
    "\n",
    "midas_transforms = torch.hub.load(\"intel-isl/MiDaS\", \"transforms\")\n",
    "\n",
    "if midas_model_type == \"DPT_Large\" or midas_model_type == \"DPT_Hybrid\":\n",
    "    midas_transform = midas_transforms.dpt_transform\n",
    "else:\n",
    "    midas_transform = midas_transforms.small_transform"
   ]
  },
  {
   "cell_type": "code",
   "execution_count": 149,
   "metadata": {},
   "outputs": [],
   "source": [
    "from torch.utils.data import Dataset, DataLoader\n",
    "\n",
    "class GraphDataLoader(Dataset):\n",
    "    def __init__(self, dataset, transform=None) -> None:\n",
    "        super().__init__()\n",
    "        self.dataset = dataset\n",
    "        self.transform = transform\n",
    "\n",
    "    def __len__(self):\n",
    "        return len(self.dataset)\n",
    "    \n",
    "    def __getitem__(self, index):\n",
    "        rgb, true_depth = self.dataset.__getitem__(index)\n",
    "        features, adj_matrix, true_adj_matrix = self.graph_extract(rgb, true_depth)\n",
    "        return features, adj_matrix, true_adj_matrix, true_depth\n",
    "\n",
    "    def graph_extract(self, rgb, true_depth):\n",
    "        extractor = ExtractGraph()\n",
    "        encoder = Encoder()\n",
    "\n",
    "        rgb = rgb.permute(1, 2, 0)*255\n",
    "        rgb = rgb.numpy()\n",
    "        print('rgb shape ', rgb.shape, ' true depth shape ', true_depth.shape)\n",
    "        rgb = midas_transform(rgb).to(device) # (1, C, H, W)\n",
    "\n",
    "        print('rgb shape after midas transform ', rgb.shape)\n",
    "        with torch.no_grad():\n",
    "            depth_map = midas(rgb) #(C, H, W) where C = 1\n",
    "            down_rgb = encoder.forward(rgb)\n",
    "\n",
    "        print('midas depth shape: ',depth_map.shape, ' encoded shape: ', down_rgb.shape)\n",
    "        target_size = down_rgb.shape[2:]\n",
    "        num_downsampled_channels = down_rgb.shape[1]\n",
    "        target_size = [x*2 for x in target_size] # Maxpool will downsample by half further\n",
    "        print('targetsize: ', target_size)\n",
    "        resize_transform = transforms.Resize(target_size)\n",
    "        depth_map = depth_map\n",
    "        depth_map = resize_transform(depth_map) # Downsample midas output to (192, 256) using bilinear interpolation\n",
    "\n",
    "        true_depth_map = resize_transform(true_depth)\n",
    "        true_depth_map = true_depth_map.to(device=device).to(torch.float32)\n",
    "\n",
    "        print(\"true depth shape \", true_depth_map.shape, \" depth map shape \", depth_map.shape)\n",
    "        adjacency_matrix = extractor.forward(depth_map, 0.4)\n",
    "        true_adjacency_matrix = extractor.forward(true_depth_map, 0.4)\n",
    "        print('pred mat shape: ', adjacency_matrix.shape)\n",
    "        print('true mat shape: ', true_adjacency_matrix.shape)\n",
    "\n",
    "        node_features = torch.reshape(down_rgb, (num_downsampled_channels, -1)) #shape will be (64, 120*160)\n",
    "\n",
    "        return node_features, adjacency_matrix, true_adjacency_matrix"
   ]
  },
  {
   "cell_type": "code",
   "execution_count": 150,
   "metadata": {},
   "outputs": [
    {
     "data": {
      "text/plain": [
       "100"
      ]
     },
     "execution_count": 150,
     "metadata": {},
     "output_type": "execute_result"
    }
   ],
   "source": [
    "nyu_dataset_processes_train = GraphDataLoader(nyu_dataset_train, transform=preprocessing_transform_2)\n",
    "processed_train_dataloader = DataLoader(nyu_dataset_processes_train, batch_size=8, shuffle=True)\n",
    "\n",
    "len(processed_train_dataloader)"
   ]
  },
  {
   "cell_type": "code",
   "execution_count": 151,
   "metadata": {},
   "outputs": [
    {
     "name": "stdout",
     "output_type": "stream",
     "text": [
      "rgb shape  (480, 640, 3)  true depth shape  torch.Size([1, 480, 640])\n",
      "rgb shape after midas transform  torch.Size([1, 3, 192, 256])\n",
      "midas depth shape:  torch.Size([1, 192, 256])  encoded shape:  torch.Size([1, 64, 96, 128])\n",
      "targetsize:  [192, 256]\n",
      "true depth shape  torch.Size([1, 192, 256])  depth map shape  torch.Size([1, 192, 256])\n",
      "d_coarse:  torch.Size([1, 192, 256]) type:  torch.float32\n",
      "x shape  torch.Size([1, 192, 256])\n",
      "pooled shape  torch.Size([1, 96, 128])\n",
      "96 128\n",
      "torch.Size([12288, 12288])\n",
      "d_coarse:  torch.Size([1, 192, 256]) type:  torch.float32\n",
      "x shape  torch.Size([1, 192, 256])\n",
      "pooled shape  torch.Size([1, 96, 128])\n",
      "96 128\n",
      "torch.Size([12288, 12288])\n",
      "pred mat shape:  torch.Size([12288, 12288])\n",
      "true mat shape:  torch.Size([12288, 12288])\n",
      "rgb shape  (480, 640, 3)  true depth shape  torch.Size([1, 480, 640])\n",
      "rgb shape after midas transform  torch.Size([1, 3, 192, 256])\n",
      "midas depth shape:  torch.Size([1, 192, 256])  encoded shape:  torch.Size([1, 64, 96, 128])\n",
      "targetsize:  [192, 256]\n",
      "true depth shape  torch.Size([1, 192, 256])  depth map shape  torch.Size([1, 192, 256])\n",
      "d_coarse:  torch.Size([1, 192, 256]) type:  torch.float32\n",
      "x shape  torch.Size([1, 192, 256])\n",
      "pooled shape  torch.Size([1, 96, 128])\n",
      "96 128\n",
      "torch.Size([12288, 12288])\n",
      "d_coarse:  torch.Size([1, 192, 256]) type:  torch.float32\n",
      "x shape  torch.Size([1, 192, 256])\n",
      "pooled shape  torch.Size([1, 96, 128])\n",
      "96 128\n",
      "torch.Size([12288, 12288])\n",
      "pred mat shape:  torch.Size([12288, 12288])\n",
      "true mat shape:  torch.Size([12288, 12288])\n",
      "rgb shape  (480, 640, 3)  true depth shape  torch.Size([1, 480, 640])\n",
      "rgb shape after midas transform  torch.Size([1, 3, 192, 256])\n",
      "midas depth shape:  torch.Size([1, 192, 256])  encoded shape:  torch.Size([1, 64, 96, 128])\n",
      "targetsize:  [192, 256]\n",
      "true depth shape  torch.Size([1, 192, 256])  depth map shape  torch.Size([1, 192, 256])\n",
      "d_coarse:  torch.Size([1, 192, 256]) type:  torch.float32\n",
      "x shape  torch.Size([1, 192, 256])\n",
      "pooled shape  torch.Size([1, 96, 128])\n",
      "96 128\n",
      "torch.Size([12288, 12288])\n",
      "d_coarse:  torch.Size([1, 192, 256]) type:  torch.float32\n",
      "x shape  torch.Size([1, 192, 256])\n",
      "pooled shape  torch.Size([1, 96, 128])\n",
      "96 128\n",
      "torch.Size([12288, 12288])\n",
      "pred mat shape:  torch.Size([12288, 12288])\n",
      "true mat shape:  torch.Size([12288, 12288])\n",
      "rgb shape  (480, 640, 3)  true depth shape  torch.Size([1, 480, 640])\n",
      "rgb shape after midas transform  torch.Size([1, 3, 192, 256])\n",
      "midas depth shape:  torch.Size([1, 192, 256])  encoded shape:  torch.Size([1, 64, 96, 128])\n",
      "targetsize:  [192, 256]\n",
      "true depth shape  torch.Size([1, 192, 256])  depth map shape  torch.Size([1, 192, 256])\n",
      "d_coarse:  torch.Size([1, 192, 256]) type:  torch.float32\n",
      "x shape  torch.Size([1, 192, 256])\n",
      "pooled shape  torch.Size([1, 96, 128])\n",
      "96 128\n",
      "torch.Size([12288, 12288])\n",
      "d_coarse:  torch.Size([1, 192, 256]) type:  torch.float32\n",
      "x shape  torch.Size([1, 192, 256])\n",
      "pooled shape  torch.Size([1, 96, 128])\n",
      "96 128\n",
      "torch.Size([12288, 12288])\n",
      "pred mat shape:  torch.Size([12288, 12288])\n",
      "true mat shape:  torch.Size([12288, 12288])\n",
      "rgb shape  (480, 640, 3)  true depth shape  torch.Size([1, 480, 640])\n",
      "rgb shape after midas transform  torch.Size([1, 3, 192, 256])\n",
      "midas depth shape:  torch.Size([1, 192, 256])  encoded shape:  torch.Size([1, 64, 96, 128])\n",
      "targetsize:  [192, 256]\n",
      "true depth shape  torch.Size([1, 192, 256])  depth map shape  torch.Size([1, 192, 256])\n",
      "d_coarse:  torch.Size([1, 192, 256]) type:  torch.float32\n",
      "x shape  torch.Size([1, 192, 256])\n",
      "pooled shape  torch.Size([1, 96, 128])\n",
      "96 128\n",
      "torch.Size([12288, 12288])\n",
      "d_coarse:  torch.Size([1, 192, 256]) type:  torch.float32\n",
      "x shape  torch.Size([1, 192, 256])\n",
      "pooled shape  torch.Size([1, 96, 128])\n",
      "96 128\n",
      "torch.Size([12288, 12288])\n",
      "pred mat shape:  torch.Size([12288, 12288])\n",
      "true mat shape:  torch.Size([12288, 12288])\n",
      "rgb shape  (480, 640, 3)  true depth shape  torch.Size([1, 480, 640])\n",
      "rgb shape after midas transform  torch.Size([1, 3, 192, 256])\n",
      "midas depth shape:  torch.Size([1, 192, 256])  encoded shape:  torch.Size([1, 64, 96, 128])\n",
      "targetsize:  [192, 256]\n",
      "true depth shape  torch.Size([1, 192, 256])  depth map shape  torch.Size([1, 192, 256])\n",
      "d_coarse:  torch.Size([1, 192, 256]) type:  torch.float32\n",
      "x shape  torch.Size([1, 192, 256])\n",
      "pooled shape  torch.Size([1, 96, 128])\n",
      "96 128\n",
      "torch.Size([12288, 12288])\n",
      "d_coarse:  torch.Size([1, 192, 256]) type:  torch.float32\n",
      "x shape  torch.Size([1, 192, 256])\n",
      "pooled shape  torch.Size([1, 96, 128])\n",
      "96 128\n",
      "torch.Size([12288, 12288])\n",
      "pred mat shape:  torch.Size([12288, 12288])\n",
      "true mat shape:  torch.Size([12288, 12288])\n",
      "rgb shape  (480, 640, 3)  true depth shape  torch.Size([1, 480, 640])\n",
      "rgb shape after midas transform  torch.Size([1, 3, 192, 256])\n",
      "midas depth shape:  torch.Size([1, 192, 256])  encoded shape:  torch.Size([1, 64, 96, 128])\n",
      "targetsize:  [192, 256]\n",
      "true depth shape  torch.Size([1, 192, 256])  depth map shape  torch.Size([1, 192, 256])\n",
      "d_coarse:  torch.Size([1, 192, 256]) type:  torch.float32\n",
      "x shape  torch.Size([1, 192, 256])\n",
      "pooled shape  torch.Size([1, 96, 128])\n",
      "96 128\n",
      "torch.Size([12288, 12288])\n",
      "d_coarse:  torch.Size([1, 192, 256]) type:  torch.float32\n",
      "x shape  torch.Size([1, 192, 256])\n",
      "pooled shape  torch.Size([1, 96, 128])\n",
      "96 128\n",
      "torch.Size([12288, 12288])\n",
      "pred mat shape:  torch.Size([12288, 12288])\n",
      "true mat shape:  torch.Size([12288, 12288])\n",
      "rgb shape  (480, 640, 3)  true depth shape  torch.Size([1, 480, 640])\n",
      "rgb shape after midas transform  torch.Size([1, 3, 192, 256])\n",
      "midas depth shape:  torch.Size([1, 192, 256])  encoded shape:  torch.Size([1, 64, 96, 128])\n",
      "targetsize:  [192, 256]\n",
      "true depth shape  torch.Size([1, 192, 256])  depth map shape  torch.Size([1, 192, 256])\n",
      "d_coarse:  torch.Size([1, 192, 256]) type:  torch.float32\n",
      "x shape  torch.Size([1, 192, 256])\n",
      "pooled shape  torch.Size([1, 96, 128])\n",
      "96 128\n",
      "torch.Size([12288, 12288])\n",
      "d_coarse:  torch.Size([1, 192, 256]) type:  torch.float32\n",
      "x shape  torch.Size([1, 192, 256])\n",
      "pooled shape  torch.Size([1, 96, 128])\n",
      "96 128\n",
      "torch.Size([12288, 12288])\n",
      "pred mat shape:  torch.Size([12288, 12288])\n",
      "true mat shape:  torch.Size([12288, 12288])\n"
     ]
    }
   ],
   "source": [
    "batch = next(iter(processed_train_dataloader))\n",
    "\n",
    "feature, intermed_adj_matrix, true_adj_matrix, true_depth= batch"
   ]
  },
  {
   "cell_type": "code",
   "execution_count": 146,
   "metadata": {},
   "outputs": [
    {
     "name": "stdout",
     "output_type": "stream",
     "text": [
      "torch.Size([8, 64, 12288])\n",
      "torch.Size([8, 12288, 12288])\n",
      "torch.Size([8, 12288, 12288])\n"
     ]
    }
   ],
   "source": [
    "print(feature.shape)\n",
    "print(intermed_adj_matrix.shape)\n",
    "print(true_adj_matrix.shape)"
   ]
  },
  {
   "cell_type": "code",
   "execution_count": 148,
   "metadata": {},
   "outputs": [],
   "source": [
    "def loss_fn(pred_adj_matrix, grnd_adj_matrix, pred_depth, grnd_depth, dice_coefficient=1):\n",
    "\n",
    "    grad_x = torch.gradient(pred_depth, dim=1)\n",
    "    grad_y = torch.gradient(pred_depth, dim=0)\n",
    "\n",
    "    squared_mag = torch.square(grad_x) + torch.square(grad_y)\n",
    "    avg_squared_mag = torch.mean(squared_mag)\n",
    "\n",
    "    l_grad = avg_squared_mag\n",
    "\n",
    "    ############\n",
    "\n",
    "    smooth = 1e-7   # To avoid division by zero\n",
    "    intersection = torch.sum(pred_adj_matrix, grnd_adj_matrix)\n",
    "    union = torch.sum(pred_adj_matrix) + torch.sum(grnd_adj_matrix)\n",
    "\n",
    "    dice_score = (2.0*intersection + smooth)/(union + smooth)\n",
    "    l_dice = 1.0 - dice_score\n",
    "\n",
    "    ###########\n",
    "\n",
    "    log_yi = torch.log(grnd_depth)\n",
    "    log_yii = torch.log(pred_depth)\n",
    "\n",
    "    d_i = log_yi - log_yii\n",
    "\n",
    "    num_pix = d_i.numel()\n",
    "\n",
    "    l_si = torch.sum(d_i**2)/num_pix + (torch.sum(d_i)**2)/num_pix\n",
    "\n",
    "    final_loss = l_grad + dice_coefficient*l_dice + l_si\n",
    "    return final_loss\n"
   ]
  },
  {
   "cell_type": "code",
   "execution_count": 147,
   "metadata": {},
   "outputs": [],
   "source": [
    "from torch_geometric.utils import to_dense_adj, dense_to_sparse\n",
    "\n",
    "def convert_to_edgeindex(matrix):\n",
    "\n",
    "    batch_size, num_nodes, _ = matrix.size()\n",
    "    batch_edge_index = []\n",
    "\n",
    "    for i in range(batch_size):\n",
    "        adj = matrix[i]\n",
    "        dense_adj = to_dense_adj(adj).squeeze()\n",
    "        edge_index, _ = dense_to_sparse(dense_adj)\n",
    "        batch_edge_index.append(edge_index)\n",
    "\n",
    "    batch_edge_index = torch.stack(batch_edge_index)\n",
    "\n",
    "    return batch_edge_index\n"
   ]
  },
  {
   "cell_type": "code",
   "execution_count": null,
   "metadata": {},
   "outputs": [],
   "source": [
    "class GNNModel(nn.Module):\n",
    "\n",
    "    def __init__(self, n_features) -> None:\n",
    "        super(GNNModel, self).__init__()\n",
    "        self.gcn1 = pyg_nn.GCNConv(n_features, 128)\n",
    "        self.gcn2 = pyg_nn.GCNConv(128, 256)\n",
    "        self.gcn3 = pyg_nn.GCNConv(256, 32)\n",
    "        self.gcn4 = pyg_nn.GCNConv(32, 1)\n",
    "\n",
    "    def forward(self, x, edge_index):\n",
    "        x = F.relu(self.gcn1(x, edge_index))\n",
    "        x = F.relu(self.gcn2(x, edge_index))\n",
    "        x = F.relu(self.gcn3(x, edge_index))\n",
    "\n",
    "        H = x\n",
    "        H = torch.mm(H, H.T)\n",
    "        pred_mat = torch.sigmoid(H)\n",
    "\n",
    "        x = F.relu(self.gcn4(x, edge_index))\n",
    "\n",
    "        return x, pred_mat\n",
    "\n",
    "    def train(self, train_loader, test_loader, num_epochs, lr):\n",
    "        self.train()\n",
    "        optimizer = torch.optim.Adam(self.parameters(), lr)\n",
    "\n",
    "        for epoch in range(num_epochs):\n",
    "            optimizer.zero_grad()\n",
    "            running_loss = 0.0\n",
    "            num_samples = 0\n",
    "\n",
    "            for batch in train_loader:\n",
    "                \n",
    "                features, intermed_adj_matrix, true_adj_matrix, true_depth = batch\n",
    "                intermed_edge_index = convert_to_edgeindex(intermed_adj_matrix)\n",
    "\n",
    "                pred_depth, pred_mat = self.forward(feature, intermed_edge_index)\n",
    "\n",
    "                loss = loss_fn(\n",
    "                    pred_adj_matrix=pred_mat,\n",
    "                    grnd_adj_matrix=true_adj_matrix,\n",
    "                    pred_depth=pred_depth,\n",
    "                    grnd_depth=true_depth\n",
    "                )\n",
    "\n",
    "                running_loss += loss.item()*feature.size(0)\n",
    "                num_samples += features.size(0)\n",
    "\n",
    "                loss.backward()\n",
    "                optimizer.step()\n",
    "\n",
    "            avg_train_loss = running_loss/num_samples\n",
    "\n",
    "            print(f\"train_loss: {avg_train_loss}\")\n",
    "\n",
    "            self.eval()\n",
    "            with torch.no_grad():\n",
    "                test_loss = 0.0\n",
    "                num_test_samples = 0\n",
    "                for test_batch in test_loader:\n",
    "                    test_features, test_intermed_adj_matrix, test_true_adj_matrix, test_true_depth = test_batch\n",
    "                    test_intermed_edge_index = convert_to_edgeindex(test_intermed_adj_matrix)\n",
    "\n",
    "                    test_pred_depth, test_pred_math = self.forward(test_features, test_intermed_edge_index)\n",
    "\n",
    "                    test_loss = loss.item()*test_features.size(0)\n",
    "                    num_test_samples += test_features.size(0)\n",
    "\n",
    "                avg_test_loss = test_loss/num_test_samples\n",
    "                print(f\"Test Loss: {avg_test_loss}\")\n",
    "\n",
    "\n",
    "                \n",
    "                \n",
    "                "
   ]
  },
  {
   "cell_type": "code",
   "execution_count": null,
   "metadata": {},
   "outputs": [],
   "source": []
  }
 ],
 "metadata": {
  "kernelspec": {
   "display_name": "Python 3.10.4 ('pytorch')",
   "language": "python",
   "name": "python3"
  },
  "language_info": {
   "codemirror_mode": {
    "name": "ipython",
    "version": 3
   },
   "file_extension": ".py",
   "mimetype": "text/x-python",
   "name": "python",
   "nbconvert_exporter": "python",
   "pygments_lexer": "ipython3",
   "version": "3.10.4"
  },
  "orig_nbformat": 4,
  "vscode": {
   "interpreter": {
    "hash": "16b550fe05c3b71bbf0c7afa52a3ee78d653553480e3fe9ba3d485dd7a41f4b6"
   }
  }
 },
 "nbformat": 4,
 "nbformat_minor": 2
}
