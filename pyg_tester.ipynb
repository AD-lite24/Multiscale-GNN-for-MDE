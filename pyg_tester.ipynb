{
 "cells": [
  {
   "cell_type": "code",
   "execution_count": 4,
   "metadata": {},
   "outputs": [],
   "source": [
    "from torch_geometric.data import Data as pyg_Data\n",
    "from torch_geometric.data import Batch as pyg_Batch\n",
    "from torch_geometric.loader import DataLoader as pyg_Loader\n",
    "import torch_geometric.nn as pyg_nn\n",
    "\n",
    "import torch\n",
    "import torch.nn.functional as F\n",
    "import torch.nn as nn\n"
   ]
  },
  {
   "cell_type": "code",
   "execution_count": 5,
   "metadata": {},
   "outputs": [
    {
     "name": "stdout",
     "output_type": "stream",
     "text": [
      "torch.Size([8, 10, 10])\n",
      "tensor([[1, 1, 1, 0, 1, 1, 0, 0, 0, 1],\n",
      "        [0, 1, 0, 1, 0, 0, 0, 1, 0, 0],\n",
      "        [1, 0, 0, 0, 1, 1, 1, 1, 0, 0],\n",
      "        [1, 0, 0, 1, 1, 0, 1, 1, 0, 1],\n",
      "        [0, 0, 1, 1, 1, 0, 0, 1, 1, 0],\n",
      "        [0, 0, 1, 0, 0, 0, 0, 1, 0, 1],\n",
      "        [1, 1, 1, 0, 1, 0, 0, 0, 1, 0],\n",
      "        [1, 1, 0, 0, 1, 0, 1, 1, 0, 0],\n",
      "        [1, 1, 1, 0, 1, 1, 0, 1, 0, 0],\n",
      "        [0, 0, 1, 1, 1, 0, 0, 1, 0, 0]], dtype=torch.int32)\n"
     ]
    }
   ],
   "source": [
    "adj = []\n",
    "\n",
    "for _ in range(8):\n",
    "\n",
    "    mat = torch.rand((10, 10)) < 0.5\n",
    "    adj.append(mat.to(torch.int))\n",
    "\n",
    "adj = torch.stack(adj)\n",
    "print(adj.shape)\n",
    "\n",
    "print(adj[0])"
   ]
  },
  {
   "cell_type": "code",
   "execution_count": 6,
   "metadata": {},
   "outputs": [
    {
     "data": {
      "text/plain": [
       "torch.Size([8, 10, 32])"
      ]
     },
     "execution_count": 6,
     "metadata": {},
     "output_type": "execute_result"
    }
   ],
   "source": [
    "features = torch.randn((8, 10, 32)) # batch, num_node, num_features\n",
    "features.shape"
   ]
  },
  {
   "cell_type": "code",
   "execution_count": 15,
   "metadata": {},
   "outputs": [],
   "source": [
    "def convert_to_edgeindex(matrix, features):\n",
    "\n",
    "    batch_size, num_nodes, _ = matrix.size()\n",
    "    edge_indices = []\n",
    "    num_nodes = [num_nodes for i in range(batch_size)]\n",
    "\n",
    "    for i in range(batch_size):\n",
    "        adj = matrix[i]\n",
    "        adj_coo = adj.to_sparse().coalesce()\n",
    "        edge_index = adj_coo.indices()\n",
    "        edge_indices.append(edge_index)\n",
    "\n",
    "    # print(edge_indices[0])\n",
    "    # print(edge_indices[1].shape)\n",
    "    \n",
    "    graph_data = [pyg_Data(edge_index=e, x=x, test = 'test') for e, x in zip(edge_indices, features)]\n",
    "    return graph_data\n",
    "\n",
    "    # # for first graph\n",
    "    # g1 = graph_data[0]\n",
    "    # print(g1)\n",
    "\n",
    "    # g_loader = pyg_Loader(graph_data, batch_size=8)\n",
    "    # return g_loader"
   ]
  },
  {
   "cell_type": "code",
   "execution_count": 16,
   "metadata": {},
   "outputs": [
    {
     "data": {
      "text/plain": [
       "DataBatch(x=[80, 32], edge_index=[2, 396], test=[8], batch=[80], ptr=[9])"
      ]
     },
     "execution_count": 16,
     "metadata": {},
     "output_type": "execute_result"
    }
   ],
   "source": [
    "data_list = convert_to_edgeindex(adj, features)\n",
    "batch = pyg_Batch.from_data_list(data_list)\n",
    "batch"
   ]
  },
  {
   "cell_type": "code",
   "execution_count": null,
   "metadata": {},
   "outputs": [],
   "source": []
  },
  {
   "cell_type": "code",
   "execution_count": 9,
   "metadata": {},
   "outputs": [],
   "source": [
    "class GCN(nn.Module):\n",
    "    def __init__(self, in_channels, hidden_channels, out_channels) -> None:\n",
    "        super(GCN, self).__init__()\n",
    "        self.conv1 = pyg_nn.GCNConv(in_channels, hidden_channels)\n",
    "        self.conv2 = pyg_nn.GCNConv(hidden_channels, out_channels)\n",
    "\n",
    "\n",
    "    def forward(self, x, edge_index):\n",
    "\n",
    "        x = self.conv1(x, edge_index)\n",
    "        x = self.conv2(x, edge_index)\n",
    "        return x"
   ]
  },
  {
   "cell_type": "code",
   "execution_count": 13,
   "metadata": {},
   "outputs": [
    {
     "name": "stdout",
     "output_type": "stream",
     "text": [
      "torch.Size([80, 32])\n",
      "torch.Size([2, 396])\n"
     ]
    }
   ],
   "source": [
    "model = GCN(32, 16, 1)\n",
    "print(batch.x.shape)\n",
    "print(batch.edge_index.shape)\n",
    "output = model(batch.x, batch.edge_index)"
   ]
  },
  {
   "cell_type": "code",
   "execution_count": 14,
   "metadata": {},
   "outputs": [
    {
     "data": {
      "text/plain": [
       "torch.Size([80, 1])"
      ]
     },
     "execution_count": 14,
     "metadata": {},
     "output_type": "execute_result"
    }
   ],
   "source": [
    "output.shape"
   ]
  },
  {
   "cell_type": "code",
   "execution_count": null,
   "metadata": {},
   "outputs": [],
   "source": []
  }
 ],
 "metadata": {
  "kernelspec": {
   "display_name": "Python 3.10.4 ('pytorch')",
   "language": "python",
   "name": "python3"
  },
  "language_info": {
   "codemirror_mode": {
    "name": "ipython",
    "version": 3
   },
   "file_extension": ".py",
   "mimetype": "text/x-python",
   "name": "python",
   "nbconvert_exporter": "python",
   "pygments_lexer": "ipython3",
   "version": "3.10.4"
  },
  "orig_nbformat": 4,
  "vscode": {
   "interpreter": {
    "hash": "16b550fe05c3b71bbf0c7afa52a3ee78d653553480e3fe9ba3d485dd7a41f4b6"
   }
  }
 },
 "nbformat": 4,
 "nbformat_minor": 2
}
