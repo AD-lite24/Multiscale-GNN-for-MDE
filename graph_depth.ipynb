{
 "cells": [
  {
   "cell_type": "code",
   "execution_count": 1,
   "metadata": {},
   "outputs": [],
   "source": [
    "import torch\n",
    "import torch.nn.functional as F\n",
    "import torch.nn as nn\n",
    "import torchvision.models as models\n",
    "import torch_geometric.nn as pyg_nn\n",
    "import torch_geometric.utils as pyg_utils\n",
    "import cv2\n",
    "import matplotlib.pyplot as plt\n",
    "from tensorboardX import SummaryWriter\n"
   ]
  },
  {
   "cell_type": "code",
   "execution_count": 2,
   "metadata": {},
   "outputs": [],
   "source": [
    "class MaxPool(nn.Module):\n",
    "    def __init__(self, pool_size):\n",
    "        super(MaxPool, self).__init__()\n",
    "        self.pool = nn.MaxPool2d(kernel_size=pool_size, stride=pool_size)\n",
    "\n",
    "    def forward(self, x):\n",
    "        return self.pool(x)\n",
    "\n",
    "\n",
    "class Noise(nn.Module):\n",
    "    def __init__(self, R_scale):\n",
    "        super(Noise, self).__init__()\n",
    "        self.mean = 0\n",
    "        self.stdev = 1  # as defined in the paper\n",
    "\n",
    "    def forward(self, d_coarse):\n",
    "        noise = torch.rand_like(d_coarse)*self.stdev + self.mean\n",
    "        d_noised = d_coarse + noise\n",
    "        return d_noised\n",
    "\n",
    "\n",
    "class IntervalThreshold(nn.Module):\n",
    "    def __init__(self, m, n):\n",
    "        super(IntervalThreshold, self).__init__()\n",
    "        self.m = m\n",
    "        self.n = n\n",
    "\n",
    "    def forward(self, d_pool):\n",
    "        threshold = (torch.max(d_pool) - torch.min(d_pool))/min(self.m, self.n)\n",
    "        return threshold\n",
    "\n",
    "\n",
    "class ReconGraph(nn.Module):\n",
    "    def __init__(self, m, n):\n",
    "        super(ReconGraph, self).__init__()\n",
    "        self.m = m\n",
    "        self.n = n\n",
    "\n",
    "    def forward(self, d_noised, threshold):\n",
    "        neighbours = set()\n",
    "        labels = {}\n",
    "\n",
    "        count = 0\n",
    "\n",
    "        for i in range(self.m):\n",
    "            for j in range(self.n):\n",
    "\n",
    "                labels[(j, i)] = count  # Labeling each pixel in (x, y) form\n",
    "                count += 1\n",
    "                for dy in range(-1, 2):\n",
    "                    for dx in range(-1, 2):\n",
    "                        if dx != 0 and dy != 0 and i+dy >= 0 and i+dy < self.m and j+dx >= 0 and j+dx < self.n:\n",
    "                            if abs(d_noised[0][0][i+dy][j+dx] - d_noised[0][0][i][j]) <= threshold:\n",
    "                                # (x, y) format\n",
    "                                neighbours.add(((j, i), (j+dx, i+dy)))\n",
    "        adjacency_matrix = torch.zeros((self.m*self.n, self.m*self.n), dtype=bool)\n",
    "        print(adjacency_matrix.shape)\n",
    "\n",
    "        for val in neighbours:\n",
    "\n",
    "            N1, N2 = val #in (x, y) form\n",
    "            N1_x, N1_y = N1\n",
    "            N2_x, N2_y = N2\n",
    "\n",
    "            l1 = labels[(N1_x, N1_y)]\n",
    "            l2 = labels[(N2_x, N2_y)]\n",
    "\n",
    "            # Symmetric connections\n",
    "            adjacency_matrix[l1, l2] = 1\n",
    "            adjacency_matrix[l2, l1] = 1\n",
    "\n",
    "        return adjacency_matrix\n",
    "\n",
    "\n",
    "class GraphDropout(nn.Module):\n",
    "    def __init__(self, p=0.5) -> None:\n",
    "        super(GraphDropout, self).__init__()\n",
    "        self.p = p\n",
    "\n",
    "    def forward(self, adjacency_matrix):\n",
    "        if self.train:\n",
    "            mask = torch.empty_like(adjacency_matrix).bernoulli_(1 - self.p)\n",
    "            output = adjacency_matrix * mask\n",
    "\n",
    "        else:\n",
    "            output = adjacency_matrix\n",
    "\n",
    "        return output\n",
    "\n",
    "\n",
    "class ExtractGraph(nn.Module):\n",
    "\n",
    "    def __init__(self, d_coarse, R_scale, m, n) -> None:\n",
    "        super(ExtractGraph, self).__init__()\n",
    "        self.d_coarse = d_coarse\n",
    "        self.R_scale = R_scale\n",
    "\n",
    "        self.maxpool = MaxPool(pool_size=2)\n",
    "        self.noise = Noise(R_scale=0.4)  # From paper results\n",
    "        self.interval_threshold = IntervalThreshold(m, n)\n",
    "        self.recon_graph = ReconGraph(m, n)\n",
    "        self.dropout = GraphDropout(p=0.5)\n",
    "\n",
    "    def forward(self):\n",
    "        d_pool = self.maxpool.forward(self.d_coarse)\n",
    "        print(\"pooled shape \", d_pool.shape)\n",
    "        d_noise = self.noise.forward(d_pool)\n",
    "        threshold = self.interval_threshold.forward(d_pool)\n",
    "        adjacency_matrix = self.recon_graph.forward(d_noise, threshold)\n",
    "        adjacency_matrix = self.dropout.forward(adjacency_matrix)\n",
    "\n",
    "        return adjacency_matrix\n"
   ]
  },
  {
   "cell_type": "code",
   "execution_count": 5,
   "metadata": {},
   "outputs": [],
   "source": [
    "class Encoder(nn.Module):\n",
    "\n",
    "    def __init__(self) -> None:\n",
    "        super(Encoder, self).__init__()\n",
    "        encoder = models.resnet.resnet50(\n",
    "            weights=models.ResNet50_Weights.DEFAULT)\n",
    "        encoder = nn.Sequential(*list(encoder.children()))[:4]\n",
    "        self.resnet_encoder = encoder\n",
    "\n",
    "    def forward(self, x):\n",
    "        self.resnet_encoder.eval()\n",
    "        return self.resnet_encoder(x)\n"
   ]
  },
  {
   "cell_type": "code",
   "execution_count": 42,
   "metadata": {},
   "outputs": [],
   "source": [
    "class GNNModel(nn.Module):\n",
    "\n",
    "    def __init__(self, n_features) -> None:\n",
    "        super(GNNModel, self).__init__()\n",
    "        self.gcn1 = pyg_nn.GCNConv(n_features, 128)\n",
    "        self.gcn2 = pyg_nn.GCNConv(128, 256)\n",
    "        self.gcn3 = pyg_nn.GCNConv(256, 32)\n",
    "        self.gcn4 = pyg_nn.GCNConv(32, 1)\n",
    "    \n",
    "\n",
    "\n",
    "    def forward(self, x, edge_index):\n",
    "        x = F.relu(self.gcn1(x, edge_index))\n",
    "        x = F.relu(self.gcn2(x, edge_index))\n",
    "        x = F.relu(self.gcn3(x, edge_index))\n",
    "        x = F.relu(self.gcn4(x, edge_index))\n",
    "\n",
    "        return x"
   ]
  },
  {
   "cell_type": "code",
   "execution_count": 28,
   "metadata": {},
   "outputs": [
    {
     "name": "stdout",
     "output_type": "stream",
     "text": [
      "Original shape  (1920, 1280)\n",
      "Shape after encoder  torch.Size([1, 64, 320, 480])\n"
     ]
    }
   ],
   "source": [
    "device = torch.device('cuda:0' if torch.cuda.is_available() else 'cpu')\n",
    "\n",
    "from PIL import Image  \n",
    "import torchvision.transforms as transforms\n",
    "\n",
    "encoder = Encoder()\n",
    "image = Image.open(\"../test_images/inputs/skyscraper_city.jpeg\")\n",
    "\n",
    "print(\"Original shape \", image.size)\n",
    "transform = transforms.Compose([\n",
    "    transforms.ToTensor(),\n",
    "    transforms.Normalize(mean=[0.485, 0.456, 0.406], std=[0.229, 0.224, 0.225])\n",
    "])\n",
    "\n",
    "input_image = transform(image).unsqueeze(0)\n",
    "node_features = encoder.forward(input_image)\n",
    "\n",
    "print(\"Shape after encoder \", node_features.shape)\n"
   ]
  },
  {
   "cell_type": "code",
   "execution_count": 13,
   "metadata": {},
   "outputs": [
    {
     "name": "stderr",
     "output_type": "stream",
     "text": [
      "Using cache found in /Users/adityadandwate/.cache/torch/hub/intel-isl_MiDaS_master\n"
     ]
    },
    {
     "name": "stdout",
     "output_type": "stream",
     "text": [
      "Loading weights:  None\n"
     ]
    },
    {
     "name": "stderr",
     "output_type": "stream",
     "text": [
      "Using cache found in /Users/adityadandwate/.cache/torch/hub/rwightman_gen-efficientnet-pytorch_master\n",
      "Using cache found in /Users/adityadandwate/.cache/torch/hub/intel-isl_MiDaS_master\n"
     ]
    },
    {
     "name": "stdout",
     "output_type": "stream",
     "text": [
      "(1280, 1920, 3)\n"
     ]
    },
    {
     "name": "stderr",
     "output_type": "stream",
     "text": [
      "[W NNPACK.cpp:51] Could not initialize NNPACK! Reason: Unsupported hardware.\n"
     ]
    },
    {
     "name": "stdout",
     "output_type": "stream",
     "text": [
      "shape through midas  torch.Size([320, 480])\n"
     ]
    }
   ],
   "source": [
    "model_type = \"MiDaS_small\"\n",
    "midas = torch.hub.load(\"intel-isl/MiDaS\", model_type)\n",
    "midas.to(device)\n",
    "midas.eval()\n",
    "\n",
    "midas_transforms = torch.hub.load(\"intel-isl/MiDaS\", \"transforms\")\n",
    "\n",
    "if model_type == \"DPT_Large\" or model_type == \"DPT_Hybrid\":\n",
    "    transform = midas_transforms.dpt_transform\n",
    "else:\n",
    "    transform = midas_transforms.small_transform\n",
    "\n",
    "img = cv2.imread(\"../test_images/inputs/skyscraper_city.jpeg\")\n",
    "print(img.shape)\n",
    "img = cv2.cvtColor(img, cv2.COLOR_BGR2RGB)\n",
    "input_batch = transform(img).to(device)\n",
    "\n",
    "\n",
    "#Interpolate to the downsampled shape\n",
    "with torch.no_grad():\n",
    "    prediction = midas(input_batch)\n",
    "\n",
    "    prediction = F.interpolate(\n",
    "        prediction.unsqueeze(1),\n",
    "        size=node_features.shape[2:4],\n",
    "        mode=\"bicubic\",\n",
    "        align_corners=False\n",
    "    ).squeeze()\n",
    "\n",
    "depth_map = prediction.cpu()\n",
    "print(\"shape through midas \", depth_map.shape)\n"
   ]
  },
  {
   "cell_type": "code",
   "execution_count": 26,
   "metadata": {},
   "outputs": [
    {
     "name": "stdout",
     "output_type": "stream",
     "text": [
      "torch.Size([1, 1, 320, 480])\n",
      "pooled shape  torch.Size([1, 1, 160, 240])\n",
      "torch.Size([38400, 38400])\n"
     ]
    },
    {
     "data": {
      "text/plain": [
       "torch.Size([38400, 38400])"
      ]
     },
     "execution_count": 26,
     "metadata": {},
     "output_type": "execute_result"
    }
   ],
   "source": [
    "# At this point, the node features are in node_features while the depth map is in depth_map\n",
    "reshaped_depth_map = torch.reshape(depth_map, (1, 1, depth_map.shape[0], depth_map.shape[1]))\n",
    "print(reshaped_depth_map.shape)\n",
    "graph_extract = ExtractGraph(reshaped_depth_map, 0.4, int(reshaped_depth_map.shape[2]/2), int(reshaped_depth_map.shape[3]/2))\n",
    "adjacency_matrix = graph_extract.forward()\n",
    "adjacency_matrix.shape\n",
    "# print((i, j) for i in range(adjacency_matrix.shape[0]) for j in range(adjacency_matrix.shape[0]) if adjacency_matrix[i, j] == 1"
   ]
  },
  {
   "cell_type": "code",
   "execution_count": 29,
   "metadata": {},
   "outputs": [
    {
     "data": {
      "text/plain": [
       "torch.Size([1, 64, 160, 240])"
      ]
     },
     "execution_count": 29,
     "metadata": {},
     "output_type": "execute_result"
    }
   ],
   "source": [
    "# Pool node features to match the number of nodes in adjacency matrix\n",
    "pooler = MaxPool(pool_size=2)\n",
    "node_features = pooler.forward(node_features)\n",
    "node_features.shape"
   ]
  },
  {
   "cell_type": "code",
   "execution_count": 30,
   "metadata": {},
   "outputs": [],
   "source": [
    "node_labels = {}\n",
    "count = 0\n",
    "for i in range(node_features.shape[2]):\n",
    "            for j in range(node_features.shape[3]):\n",
    "\n",
    "                node_labels[(j, i)] = count  # Labeling each pixel in (x, y) form\n",
    "                count += 1\n",
    "# node_features = node_features.T()\n",
    "# node_features.shape"
   ]
  },
  {
   "cell_type": "code",
   "execution_count": 33,
   "metadata": {},
   "outputs": [
    {
     "data": {
      "text/plain": [
       "torch.Size([38400, 64])"
      ]
     },
     "execution_count": 33,
     "metadata": {},
     "output_type": "execute_result"
    }
   ],
   "source": [
    "node_features = torch.reshape(node_features, (64, -1))\n",
    "node_features.shape\n",
    "node_features = node_features.t()\n",
    "node_features.shape\n"
   ]
  },
  {
   "cell_type": "code",
   "execution_count": 37,
   "metadata": {},
   "outputs": [],
   "source": [
    "from tqdm import tqdm\n",
    "def adjacency_matrix_to_edge_index(adjacency_matrix):\n",
    "    # Get the dimensions of the adjacency matrix\n",
    "    num_nodes = adjacency_matrix.shape[0]\n",
    "\n",
    "    # Create an empty list to store the edge indices\n",
    "    edge_index = []\n",
    "\n",
    "    # Iterate over the adjacency matrix and find the non-zero entries\n",
    "    for i in tqdm(range(num_nodes)):\n",
    "        for j in range(num_nodes):\n",
    "            if adjacency_matrix[i, j] != 0:\n",
    "                edge_index.append([i, j])\n",
    "\n",
    "    # Convert the list of edge indices to a PyTorch tensor\n",
    "    edge_index = torch.tensor(edge_index, dtype=torch.long).t().contiguous()\n",
    "\n",
    "    return edge_index\n"
   ]
  },
  {
   "cell_type": "code",
   "execution_count": 39,
   "metadata": {},
   "outputs": [
    {
     "data": {
      "text/plain": [
       "torch.Size([2, 60270])"
      ]
     },
     "execution_count": 39,
     "metadata": {},
     "output_type": "execute_result"
    }
   ],
   "source": [
    "adj_coo = adjacency_matrix.to_sparse().coalesce()\n",
    "edge_index = adj_coo.indices()\n",
    "edge_index.shape"
   ]
  },
  {
   "cell_type": "code",
   "execution_count": 45,
   "metadata": {},
   "outputs": [
    {
     "data": {
      "text/plain": [
       "torch.Size([38400, 1])"
      ]
     },
     "execution_count": 45,
     "metadata": {},
     "output_type": "execute_result"
    }
   ],
   "source": [
    "gnn = GNNModel(node_features.shape[1])\n",
    "output = gnn.forward(node_features, edge_index)\n",
    "output.shape"
   ]
  },
  {
   "cell_type": "code",
   "execution_count": 47,
   "metadata": {},
   "outputs": [
    {
     "data": {
      "text/plain": [
       "torch.Size([1, 160, 240])"
      ]
     },
     "execution_count": 47,
     "metadata": {},
     "output_type": "execute_result"
    }
   ],
   "source": [
    "output = output.t()\n",
    "output = torch.reshape(output, (1, 160, 240))\n",
    "output.shape\n",
    "\n"
   ]
  },
  {
   "cell_type": "code",
   "execution_count": 52,
   "metadata": {},
   "outputs": [
    {
     "data": {
      "image/png": "[encoded data removed]",
      "text/plain": [
       "<Figure size 432x288 with 1 Axes>"
      ]
     },
     "metadata": {
      "needs_background": "light"
     },
     "output_type": "display_data"
    },
    {
     "data": {
      "image/png": "[encoded data removed]",
      "text/plain": [
       "<Figure size 432x288 with 1 Axes>"
      ]
     },
     "metadata": {
      "needs_background": "light"
     },
     "output_type": "display_data"
    }
   ],
   "source": [
    "import matplotlib.pyplot as plt\n",
    "\n",
    "image_array = output.permute(1, 2, 0).detach().numpy()\n",
    "plt.imshow(image_array)\n",
    "plt.show()\n",
    "\n",
    "depth1 = depth_map.detach().numpy()\n",
    "plt.imshow(depth1)\n",
    "plt.show()"
   ]
  },
  {
   "cell_type": "code",
   "execution_count": 54,
   "metadata": {},
   "outputs": [
    {
     "data": {
      "text/plain": [
       "torch.Size([1, 6])"
      ]
     },
     "execution_count": 54,
     "metadata": {},
     "output_type": "execute_result"
    }
   ],
   "source": [
    "test = torch.tensor([1, 2, 3, 4, 5, 6])\n",
    "test = test.reshape(6, 1)   # (6, 1)\n",
    "\n",
    "test = test.t()\n",
    "test.shape      # (1, 6)"
   ]
  },
  {
   "cell_type": "code",
   "execution_count": 56,
   "metadata": {},
   "outputs": [
    {
     "data": {
      "text/plain": [
       "tensor([[[1, 2, 3],\n",
       "         [4, 5, 6]]])"
      ]
     },
     "execution_count": 56,
     "metadata": {},
     "output_type": "execute_result"
    }
   ],
   "source": [
    "test = test.reshape(1, 2, 3)\n",
    "test.shape  #(1, 2, 3)\n",
    "test"
   ]
  },
  {
   "cell_type": "code",
   "execution_count": 57,
   "metadata": {},
   "outputs": [
    {
     "data": {
      "text/plain": [
       "tensor([[1, 2, 3, 4, 5, 6]])"
      ]
     },
     "execution_count": 57,
     "metadata": {},
     "output_type": "execute_result"
    }
   ],
   "source": [
    "test = test.reshape(1, 6)\n",
    "test"
   ]
  },
  {
   "cell_type": "code",
   "execution_count": null,
   "metadata": {},
   "outputs": [],
   "source": []
  }
 ],
 "metadata": {
  "kernelspec": {
   "display_name": "Python 3.10.4 ('pytorch')",
   "language": "python",
   "name": "python3"
  },
  "language_info": {
   "codemirror_mode": {
    "name": "ipython",
    "version": 3
   },
   "file_extension": ".py",
   "mimetype": "text/x-python",
   "name": "python",
   "nbconvert_exporter": "python",
   "pygments_lexer": "ipython3",
   "version": "3.10.4"
  },
  "orig_nbformat": 4,
  "vscode": {
   "interpreter": {
    "hash": "16b550fe05c3b71bbf0c7afa52a3ee78d653553480e3fe9ba3d485dd7a41f4b6"
   }
  }
 },
 "nbformat": 4,
 "nbformat_minor": 2
}
